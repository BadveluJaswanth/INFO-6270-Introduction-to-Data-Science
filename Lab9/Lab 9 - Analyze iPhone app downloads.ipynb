{
 "cells": [
  {
   "cell_type": "markdown",
   "metadata": {},
   "source": [
    "# Week 9 - Visual Analytics in Python\n",
    "*© 2020 Colin Conrad*\n",
    "\n",
    "Welcome to Week 9 of INFO 6270! I trust that you are all well and enjoying the end of term from the comfort of your couches. The COVID-19 crisis has certainly developed into something major. As always, if there is anything I can do to support you (e.g. flexible deadlines) please do not hesitate to reach out.\n",
    "\n",
    "Last week we explored dataframes. This week we are going to build on those concepts by exploring dataframe visualization methods. Python comes with a few good visualization tools, though (as we will see) they are not a replacement for a good data visualization tool such as Tableau. In addition, we will explore one inferential statistics technique called Student's t-test, which is among the most influential and common data analysis techniques.\n",
    "\n",
    "**This week, we will achieve the following objectives:**\n",
    "- Visualize a dataframe in Python\n",
    "- Visualize a grouped dataframe\n",
    "- Change your plot styles\n",
    "- Conduct inferential analysis with a t-test"
   ]
  },
  {
   "cell_type": "markdown",
   "metadata": {},
   "source": [
    "# Case: Apple Appstore\n",
    "Pretty much everyone knows about the Apple iPhone; after all, this was *the* defining smartphone. However, iPhone's reign as the big boss of smartphones may be coming to an end. According to Gartner, as Q3 2019 [iPhone has seen its year-over-year sales decline by 10\\%](https://www.gartner.com/en/newsroom/press-releases/2019-11-26-gartner-says-global-smartphone-demand-was-weak-in-thi). This is due to increasing competition from some of its android competitors.\n",
    "\n",
    "Part of Apple's key to success has been the iPhone App Store. Unlike its Android counterparts, all Apple apps are developed by licensed developers and carefully screened for malware. To analyze other factors in its success, we can observe data from the Appstore itself. Using this dataset provided by [Ramanathan on Kaggle](https://www.kaggle.com/ramamet4/app-store-apple-data-set-10k-apps) we can visualize features of the dataset which might have contributed to the success of the appstore."
   ]
  },
  {
   "cell_type": "markdown",
   "metadata": {},
   "source": [
    "# Objective 1: Visualize a dataframe in Python\n",
    "The first thing we will do is create some basic visualizations. Pandas has some [great documentation on visualization](https://pandas.pydata.org/pandas-docs/stable/user_guide/visualization.html#basic-plotting-plot) which I strongly encourage you to read. This documentation provides more details than I can give in this exercise, though I will make an effort to highlight some key points.\n",
    "\n",
    "Let's start by importing the Pandas dataframe, as before. Rather than importing `numpy`, we will import a different library called `matplotlib`. This tool is a plotting library which is designed to integrate with pandas. As before, we will import a csv file, this time from Apple."
   ]
  },
  {
   "cell_type": "code",
   "execution_count": 1,
   "metadata": {
    "scrolled": true
   },
   "outputs": [],
   "source": [
    "import pandas as pd # import pandas \n",
    "\n",
    "import matplotlib.pyplot as plt\n",
    "\n",
    "apps = pd.read_csv('data/w9_apple.csv') # command pandas to import the data"
   ]
  },
  {
   "cell_type": "markdown",
   "metadata": {},
   "source": [
    "### Dataframe head (again!)\n",
    "I recommend always starting by understanding the data. In this case, we have a series of iPhone apps with a few interesting fields. Here are some details on ones which are potentially interesting and non-obvious to me:\n",
    "- **rating_count_tot**: Total number of ratings for all versions of the app\n",
    "- **rating_count_ver**: Number of ratings for this version of the app\n",
    "- **sup_devisces.num**: Number of Apple devices that the app supports\n",
    "- **lang.num**: The number of (human) languages which the app supports"
   ]
  },
  {
   "cell_type": "code",
   "execution_count": 2,
   "metadata": {},
   "outputs": [
    {
     "data": {
      "text/html": [
       "<div>\n",
       "<style scoped>\n",
       "    .dataframe tbody tr th:only-of-type {\n",
       "        vertical-align: middle;\n",
       "    }\n",
       "\n",
       "    .dataframe tbody tr th {\n",
       "        vertical-align: top;\n",
       "    }\n",
       "\n",
       "    .dataframe thead th {\n",
       "        text-align: right;\n",
       "    }\n",
       "</style>\n",
       "<table border=\"1\" class=\"dataframe\">\n",
       "  <thead>\n",
       "    <tr style=\"text-align: right;\">\n",
       "      <th></th>\n",
       "      <th>Unnamed: 0</th>\n",
       "      <th>id</th>\n",
       "      <th>track_name</th>\n",
       "      <th>size_bytes</th>\n",
       "      <th>currency</th>\n",
       "      <th>price</th>\n",
       "      <th>rating_count_tot</th>\n",
       "      <th>rating_count_ver</th>\n",
       "      <th>user_rating</th>\n",
       "      <th>user_rating_ver</th>\n",
       "      <th>ver</th>\n",
       "      <th>cont_rating</th>\n",
       "      <th>prime_genre</th>\n",
       "      <th>sup_devices.num</th>\n",
       "      <th>ipadSc_urls.num</th>\n",
       "      <th>lang.num</th>\n",
       "      <th>vpp_lic</th>\n",
       "    </tr>\n",
       "  </thead>\n",
       "  <tbody>\n",
       "    <tr>\n",
       "      <th>0</th>\n",
       "      <td>1</td>\n",
       "      <td>281656475</td>\n",
       "      <td>PAC-MAN Premium</td>\n",
       "      <td>100788224</td>\n",
       "      <td>USD</td>\n",
       "      <td>3.99</td>\n",
       "      <td>21292</td>\n",
       "      <td>26</td>\n",
       "      <td>4.0</td>\n",
       "      <td>4.5</td>\n",
       "      <td>6.3.5</td>\n",
       "      <td>4+</td>\n",
       "      <td>Games</td>\n",
       "      <td>38</td>\n",
       "      <td>5</td>\n",
       "      <td>10</td>\n",
       "      <td>1</td>\n",
       "    </tr>\n",
       "    <tr>\n",
       "      <th>1</th>\n",
       "      <td>2</td>\n",
       "      <td>281796108</td>\n",
       "      <td>Evernote - stay organized</td>\n",
       "      <td>158578688</td>\n",
       "      <td>USD</td>\n",
       "      <td>0.00</td>\n",
       "      <td>161065</td>\n",
       "      <td>26</td>\n",
       "      <td>4.0</td>\n",
       "      <td>3.5</td>\n",
       "      <td>8.2.2</td>\n",
       "      <td>4+</td>\n",
       "      <td>Productivity</td>\n",
       "      <td>37</td>\n",
       "      <td>5</td>\n",
       "      <td>23</td>\n",
       "      <td>1</td>\n",
       "    </tr>\n",
       "    <tr>\n",
       "      <th>2</th>\n",
       "      <td>3</td>\n",
       "      <td>281940292</td>\n",
       "      <td>WeatherBug - Local Weather, Radar, Maps, Alerts</td>\n",
       "      <td>100524032</td>\n",
       "      <td>USD</td>\n",
       "      <td>0.00</td>\n",
       "      <td>188583</td>\n",
       "      <td>2822</td>\n",
       "      <td>3.5</td>\n",
       "      <td>4.5</td>\n",
       "      <td>5.0.0</td>\n",
       "      <td>4+</td>\n",
       "      <td>Weather</td>\n",
       "      <td>37</td>\n",
       "      <td>5</td>\n",
       "      <td>3</td>\n",
       "      <td>1</td>\n",
       "    </tr>\n",
       "    <tr>\n",
       "      <th>3</th>\n",
       "      <td>4</td>\n",
       "      <td>282614216</td>\n",
       "      <td>eBay: Best App to Buy, Sell, Save! Online Shop...</td>\n",
       "      <td>128512000</td>\n",
       "      <td>USD</td>\n",
       "      <td>0.00</td>\n",
       "      <td>262241</td>\n",
       "      <td>649</td>\n",
       "      <td>4.0</td>\n",
       "      <td>4.5</td>\n",
       "      <td>5.10.0</td>\n",
       "      <td>12+</td>\n",
       "      <td>Shopping</td>\n",
       "      <td>37</td>\n",
       "      <td>5</td>\n",
       "      <td>9</td>\n",
       "      <td>1</td>\n",
       "    </tr>\n",
       "    <tr>\n",
       "      <th>4</th>\n",
       "      <td>5</td>\n",
       "      <td>282935706</td>\n",
       "      <td>Bible</td>\n",
       "      <td>92774400</td>\n",
       "      <td>USD</td>\n",
       "      <td>0.00</td>\n",
       "      <td>985920</td>\n",
       "      <td>5320</td>\n",
       "      <td>4.5</td>\n",
       "      <td>5.0</td>\n",
       "      <td>7.5.1</td>\n",
       "      <td>4+</td>\n",
       "      <td>Reference</td>\n",
       "      <td>37</td>\n",
       "      <td>5</td>\n",
       "      <td>45</td>\n",
       "      <td>1</td>\n",
       "    </tr>\n",
       "    <tr>\n",
       "      <th>5</th>\n",
       "      <td>6</td>\n",
       "      <td>283619399</td>\n",
       "      <td>Shanghai Mahjong</td>\n",
       "      <td>10485713</td>\n",
       "      <td>USD</td>\n",
       "      <td>0.99</td>\n",
       "      <td>8253</td>\n",
       "      <td>5516</td>\n",
       "      <td>4.0</td>\n",
       "      <td>4.0</td>\n",
       "      <td>1.8</td>\n",
       "      <td>4+</td>\n",
       "      <td>Games</td>\n",
       "      <td>47</td>\n",
       "      <td>5</td>\n",
       "      <td>1</td>\n",
       "      <td>1</td>\n",
       "    </tr>\n",
       "    <tr>\n",
       "      <th>6</th>\n",
       "      <td>7</td>\n",
       "      <td>283646709</td>\n",
       "      <td>PayPal - Send and request money safely</td>\n",
       "      <td>227795968</td>\n",
       "      <td>USD</td>\n",
       "      <td>0.00</td>\n",
       "      <td>119487</td>\n",
       "      <td>879</td>\n",
       "      <td>4.0</td>\n",
       "      <td>4.5</td>\n",
       "      <td>6.12.0</td>\n",
       "      <td>4+</td>\n",
       "      <td>Finance</td>\n",
       "      <td>37</td>\n",
       "      <td>0</td>\n",
       "      <td>19</td>\n",
       "      <td>1</td>\n",
       "    </tr>\n",
       "    <tr>\n",
       "      <th>7</th>\n",
       "      <td>8</td>\n",
       "      <td>284035177</td>\n",
       "      <td>Pandora - Music &amp; Radio</td>\n",
       "      <td>130242560</td>\n",
       "      <td>USD</td>\n",
       "      <td>0.00</td>\n",
       "      <td>1126879</td>\n",
       "      <td>3594</td>\n",
       "      <td>4.0</td>\n",
       "      <td>4.5</td>\n",
       "      <td>8.4.1</td>\n",
       "      <td>12+</td>\n",
       "      <td>Music</td>\n",
       "      <td>37</td>\n",
       "      <td>4</td>\n",
       "      <td>1</td>\n",
       "      <td>1</td>\n",
       "    </tr>\n",
       "    <tr>\n",
       "      <th>8</th>\n",
       "      <td>9</td>\n",
       "      <td>284666222</td>\n",
       "      <td>PCalc - The Best Calculator</td>\n",
       "      <td>49250304</td>\n",
       "      <td>USD</td>\n",
       "      <td>9.99</td>\n",
       "      <td>1117</td>\n",
       "      <td>4</td>\n",
       "      <td>4.5</td>\n",
       "      <td>5.0</td>\n",
       "      <td>3.6.6</td>\n",
       "      <td>4+</td>\n",
       "      <td>Utilities</td>\n",
       "      <td>37</td>\n",
       "      <td>5</td>\n",
       "      <td>1</td>\n",
       "      <td>1</td>\n",
       "    </tr>\n",
       "    <tr>\n",
       "      <th>9</th>\n",
       "      <td>10</td>\n",
       "      <td>284736660</td>\n",
       "      <td>Ms. PAC-MAN</td>\n",
       "      <td>70023168</td>\n",
       "      <td>USD</td>\n",
       "      <td>3.99</td>\n",
       "      <td>7885</td>\n",
       "      <td>40</td>\n",
       "      <td>4.0</td>\n",
       "      <td>4.0</td>\n",
       "      <td>4.0.4</td>\n",
       "      <td>4+</td>\n",
       "      <td>Games</td>\n",
       "      <td>38</td>\n",
       "      <td>0</td>\n",
       "      <td>10</td>\n",
       "      <td>1</td>\n",
       "    </tr>\n",
       "    <tr>\n",
       "      <th>10</th>\n",
       "      <td>11</td>\n",
       "      <td>284791396</td>\n",
       "      <td>Solitaire by MobilityWare</td>\n",
       "      <td>49618944</td>\n",
       "      <td>USD</td>\n",
       "      <td>4.99</td>\n",
       "      <td>76720</td>\n",
       "      <td>4017</td>\n",
       "      <td>4.5</td>\n",
       "      <td>4.5</td>\n",
       "      <td>4.10.1</td>\n",
       "      <td>4+</td>\n",
       "      <td>Games</td>\n",
       "      <td>38</td>\n",
       "      <td>4</td>\n",
       "      <td>11</td>\n",
       "      <td>1</td>\n",
       "    </tr>\n",
       "    <tr>\n",
       "      <th>11</th>\n",
       "      <td>12</td>\n",
       "      <td>284815117</td>\n",
       "      <td>SCRABBLE Premium</td>\n",
       "      <td>227547136</td>\n",
       "      <td>USD</td>\n",
       "      <td>7.99</td>\n",
       "      <td>105776</td>\n",
       "      <td>166</td>\n",
       "      <td>3.5</td>\n",
       "      <td>2.5</td>\n",
       "      <td>5.19.0</td>\n",
       "      <td>4+</td>\n",
       "      <td>Games</td>\n",
       "      <td>37</td>\n",
       "      <td>0</td>\n",
       "      <td>6</td>\n",
       "      <td>1</td>\n",
       "    </tr>\n",
       "    <tr>\n",
       "      <th>12</th>\n",
       "      <td>13</td>\n",
       "      <td>284815942</td>\n",
       "      <td>Google – Search made just for mobile</td>\n",
       "      <td>179979264</td>\n",
       "      <td>USD</td>\n",
       "      <td>0.00</td>\n",
       "      <td>479440</td>\n",
       "      <td>203</td>\n",
       "      <td>3.5</td>\n",
       "      <td>4.0</td>\n",
       "      <td>27</td>\n",
       "      <td>17+</td>\n",
       "      <td>Utilities</td>\n",
       "      <td>37</td>\n",
       "      <td>4</td>\n",
       "      <td>33</td>\n",
       "      <td>1</td>\n",
       "    </tr>\n",
       "    <tr>\n",
       "      <th>13</th>\n",
       "      <td>14</td>\n",
       "      <td>284847138</td>\n",
       "      <td>Bank of America - Mobile Banking</td>\n",
       "      <td>160925696</td>\n",
       "      <td>USD</td>\n",
       "      <td>0.00</td>\n",
       "      <td>119773</td>\n",
       "      <td>2336</td>\n",
       "      <td>3.5</td>\n",
       "      <td>4.5</td>\n",
       "      <td>7.3.8</td>\n",
       "      <td>4+</td>\n",
       "      <td>Finance</td>\n",
       "      <td>37</td>\n",
       "      <td>0</td>\n",
       "      <td>2</td>\n",
       "      <td>1</td>\n",
       "    </tr>\n",
       "    <tr>\n",
       "      <th>14</th>\n",
       "      <td>15</td>\n",
       "      <td>284862767</td>\n",
       "      <td>FreeCell</td>\n",
       "      <td>55153664</td>\n",
       "      <td>USD</td>\n",
       "      <td>4.99</td>\n",
       "      <td>6340</td>\n",
       "      <td>668</td>\n",
       "      <td>4.5</td>\n",
       "      <td>4.5</td>\n",
       "      <td>4.0.3</td>\n",
       "      <td>4+</td>\n",
       "      <td>Games</td>\n",
       "      <td>38</td>\n",
       "      <td>5</td>\n",
       "      <td>2</td>\n",
       "      <td>1</td>\n",
       "    </tr>\n",
       "    <tr>\n",
       "      <th>15</th>\n",
       "      <td>16</td>\n",
       "      <td>284876795</td>\n",
       "      <td>TripAdvisor Hotels Flights Restaurants</td>\n",
       "      <td>207907840</td>\n",
       "      <td>USD</td>\n",
       "      <td>0.00</td>\n",
       "      <td>56194</td>\n",
       "      <td>87</td>\n",
       "      <td>4.0</td>\n",
       "      <td>3.5</td>\n",
       "      <td>21.1</td>\n",
       "      <td>4+</td>\n",
       "      <td>Travel</td>\n",
       "      <td>37</td>\n",
       "      <td>1</td>\n",
       "      <td>26</td>\n",
       "      <td>1</td>\n",
       "    </tr>\n",
       "    <tr>\n",
       "      <th>16</th>\n",
       "      <td>17</td>\n",
       "      <td>284882215</td>\n",
       "      <td>Facebook</td>\n",
       "      <td>389879808</td>\n",
       "      <td>USD</td>\n",
       "      <td>0.00</td>\n",
       "      <td>2974676</td>\n",
       "      <td>212</td>\n",
       "      <td>3.5</td>\n",
       "      <td>3.5</td>\n",
       "      <td>95</td>\n",
       "      <td>4+</td>\n",
       "      <td>Social Networking</td>\n",
       "      <td>37</td>\n",
       "      <td>1</td>\n",
       "      <td>29</td>\n",
       "      <td>1</td>\n",
       "    </tr>\n",
       "    <tr>\n",
       "      <th>17</th>\n",
       "      <td>18</td>\n",
       "      <td>284910350</td>\n",
       "      <td>Yelp - Nearby Restaurants, Shopping &amp; Services</td>\n",
       "      <td>167407616</td>\n",
       "      <td>USD</td>\n",
       "      <td>0.00</td>\n",
       "      <td>223885</td>\n",
       "      <td>3726</td>\n",
       "      <td>4.0</td>\n",
       "      <td>4.5</td>\n",
       "      <td>11.15.0</td>\n",
       "      <td>12+</td>\n",
       "      <td>Travel</td>\n",
       "      <td>37</td>\n",
       "      <td>5</td>\n",
       "      <td>18</td>\n",
       "      <td>1</td>\n",
       "    </tr>\n",
       "    <tr>\n",
       "      <th>18</th>\n",
       "      <td>20</td>\n",
       "      <td>284993459</td>\n",
       "      <td>Shazam - Discover music, artists, videos &amp; lyrics</td>\n",
       "      <td>147093504</td>\n",
       "      <td>USD</td>\n",
       "      <td>0.00</td>\n",
       "      <td>402925</td>\n",
       "      <td>136</td>\n",
       "      <td>4.0</td>\n",
       "      <td>4.5</td>\n",
       "      <td>11.0.3</td>\n",
       "      <td>12+</td>\n",
       "      <td>Music</td>\n",
       "      <td>37</td>\n",
       "      <td>3</td>\n",
       "      <td>16</td>\n",
       "      <td>1</td>\n",
       "    </tr>\n",
       "    <tr>\n",
       "      <th>19</th>\n",
       "      <td>21</td>\n",
       "      <td>285005463</td>\n",
       "      <td>Crash Bandicoot Nitro Kart 3D</td>\n",
       "      <td>10735026</td>\n",
       "      <td>USD</td>\n",
       "      <td>2.99</td>\n",
       "      <td>31456</td>\n",
       "      <td>4178</td>\n",
       "      <td>4.0</td>\n",
       "      <td>3.5</td>\n",
       "      <td>1.0.0</td>\n",
       "      <td>4+</td>\n",
       "      <td>Games</td>\n",
       "      <td>47</td>\n",
       "      <td>0</td>\n",
       "      <td>1</td>\n",
       "      <td>1</td>\n",
       "    </tr>\n",
       "    <tr>\n",
       "      <th>20</th>\n",
       "      <td>22</td>\n",
       "      <td>285946052</td>\n",
       "      <td>iQuran</td>\n",
       "      <td>70707916</td>\n",
       "      <td>USD</td>\n",
       "      <td>1.99</td>\n",
       "      <td>2929</td>\n",
       "      <td>966</td>\n",
       "      <td>4.5</td>\n",
       "      <td>4.5</td>\n",
       "      <td>3.3</td>\n",
       "      <td>4+</td>\n",
       "      <td>Reference</td>\n",
       "      <td>43</td>\n",
       "      <td>0</td>\n",
       "      <td>2</td>\n",
       "      <td>1</td>\n",
       "    </tr>\n",
       "    <tr>\n",
       "      <th>21</th>\n",
       "      <td>23</td>\n",
       "      <td>285994151</td>\n",
       "      <td>:) Sudoku +</td>\n",
       "      <td>6169600</td>\n",
       "      <td>USD</td>\n",
       "      <td>2.99</td>\n",
       "      <td>11447</td>\n",
       "      <td>781</td>\n",
       "      <td>5.0</td>\n",
       "      <td>5.0</td>\n",
       "      <td>5.2.6</td>\n",
       "      <td>4+</td>\n",
       "      <td>Games</td>\n",
       "      <td>40</td>\n",
       "      <td>5</td>\n",
       "      <td>1</td>\n",
       "      <td>1</td>\n",
       "    </tr>\n",
       "    <tr>\n",
       "      <th>22</th>\n",
       "      <td>24</td>\n",
       "      <td>286058814</td>\n",
       "      <td>Yahoo Sports - Teams, Scores, News &amp; Highlights</td>\n",
       "      <td>130583552</td>\n",
       "      <td>USD</td>\n",
       "      <td>0.00</td>\n",
       "      <td>137951</td>\n",
       "      <td>131</td>\n",
       "      <td>4.0</td>\n",
       "      <td>4.5</td>\n",
       "      <td>6.9</td>\n",
       "      <td>4+</td>\n",
       "      <td>Sports</td>\n",
       "      <td>37</td>\n",
       "      <td>2</td>\n",
       "      <td>6</td>\n",
       "      <td>1</td>\n",
       "    </tr>\n",
       "    <tr>\n",
       "      <th>23</th>\n",
       "      <td>25</td>\n",
       "      <td>286070473</td>\n",
       "      <td>Mileage Log | Fahrtenbuch</td>\n",
       "      <td>71203840</td>\n",
       "      <td>USD</td>\n",
       "      <td>5.99</td>\n",
       "      <td>8</td>\n",
       "      <td>0</td>\n",
       "      <td>4.5</td>\n",
       "      <td>0.0</td>\n",
       "      <td>9.0.5</td>\n",
       "      <td>4+</td>\n",
       "      <td>Business</td>\n",
       "      <td>37</td>\n",
       "      <td>5</td>\n",
       "      <td>3</td>\n",
       "      <td>1</td>\n",
       "    </tr>\n",
       "    <tr>\n",
       "      <th>24</th>\n",
       "      <td>27</td>\n",
       "      <td>286799607</td>\n",
       "      <td>Cleartune - Chromatic Tuner</td>\n",
       "      <td>11423008</td>\n",
       "      <td>USD</td>\n",
       "      <td>3.99</td>\n",
       "      <td>3241</td>\n",
       "      <td>297</td>\n",
       "      <td>4.0</td>\n",
       "      <td>4.0</td>\n",
       "      <td>2.1.3</td>\n",
       "      <td>4+</td>\n",
       "      <td>Music</td>\n",
       "      <td>43</td>\n",
       "      <td>2</td>\n",
       "      <td>10</td>\n",
       "      <td>1</td>\n",
       "    </tr>\n",
       "    <tr>\n",
       "      <th>25</th>\n",
       "      <td>28</td>\n",
       "      <td>286906691</td>\n",
       "      <td>Lifesum – Inspiring healthy lifestyle app</td>\n",
       "      <td>188017664</td>\n",
       "      <td>USD</td>\n",
       "      <td>0.00</td>\n",
       "      <td>5795</td>\n",
       "      <td>12</td>\n",
       "      <td>3.5</td>\n",
       "      <td>4.0</td>\n",
       "      <td>8.4.1</td>\n",
       "      <td>4+</td>\n",
       "      <td>Health &amp; Fitness</td>\n",
       "      <td>37</td>\n",
       "      <td>5</td>\n",
       "      <td>11</td>\n",
       "      <td>1</td>\n",
       "    </tr>\n",
       "    <tr>\n",
       "      <th>26</th>\n",
       "      <td>29</td>\n",
       "      <td>286911400</td>\n",
       "      <td>Hangman.</td>\n",
       "      <td>4765696</td>\n",
       "      <td>USD</td>\n",
       "      <td>0.00</td>\n",
       "      <td>42316</td>\n",
       "      <td>248</td>\n",
       "      <td>3.0</td>\n",
       "      <td>3.5</td>\n",
       "      <td>2.0.6</td>\n",
       "      <td>9+</td>\n",
       "      <td>Games</td>\n",
       "      <td>38</td>\n",
       "      <td>0</td>\n",
       "      <td>1</td>\n",
       "      <td>1</td>\n",
       "    </tr>\n",
       "    <tr>\n",
       "      <th>27</th>\n",
       "      <td>31</td>\n",
       "      <td>288113403</td>\n",
       "      <td>iTranslate - Language Translator &amp; Dictionary</td>\n",
       "      <td>287933440</td>\n",
       "      <td>USD</td>\n",
       "      <td>0.00</td>\n",
       "      <td>123215</td>\n",
       "      <td>25</td>\n",
       "      <td>3.5</td>\n",
       "      <td>5.0</td>\n",
       "      <td>10.5.4</td>\n",
       "      <td>4+</td>\n",
       "      <td>Productivity</td>\n",
       "      <td>37</td>\n",
       "      <td>5</td>\n",
       "      <td>23</td>\n",
       "      <td>1</td>\n",
       "    </tr>\n",
       "    <tr>\n",
       "      <th>28</th>\n",
       "      <td>32</td>\n",
       "      <td>288120394</td>\n",
       "      <td>TouchOSC</td>\n",
       "      <td>4263936</td>\n",
       "      <td>USD</td>\n",
       "      <td>4.99</td>\n",
       "      <td>782</td>\n",
       "      <td>7</td>\n",
       "      <td>4.0</td>\n",
       "      <td>3.5</td>\n",
       "      <td>1.9.8</td>\n",
       "      <td>4+</td>\n",
       "      <td>Music</td>\n",
       "      <td>43</td>\n",
       "      <td>1</td>\n",
       "      <td>1</td>\n",
       "      <td>1</td>\n",
       "    </tr>\n",
       "    <tr>\n",
       "      <th>29</th>\n",
       "      <td>33</td>\n",
       "      <td>288419283</td>\n",
       "      <td>RadarScope</td>\n",
       "      <td>172772352</td>\n",
       "      <td>USD</td>\n",
       "      <td>9.99</td>\n",
       "      <td>3449</td>\n",
       "      <td>23</td>\n",
       "      <td>4.0</td>\n",
       "      <td>4.5</td>\n",
       "      <td>3.4.1</td>\n",
       "      <td>4+</td>\n",
       "      <td>Weather</td>\n",
       "      <td>37</td>\n",
       "      <td>5</td>\n",
       "      <td>1</td>\n",
       "      <td>1</td>\n",
       "    </tr>\n",
       "    <tr>\n",
       "      <th>...</th>\n",
       "      <td>...</td>\n",
       "      <td>...</td>\n",
       "      <td>...</td>\n",
       "      <td>...</td>\n",
       "      <td>...</td>\n",
       "      <td>...</td>\n",
       "      <td>...</td>\n",
       "      <td>...</td>\n",
       "      <td>...</td>\n",
       "      <td>...</td>\n",
       "      <td>...</td>\n",
       "      <td>...</td>\n",
       "      <td>...</td>\n",
       "      <td>...</td>\n",
       "      <td>...</td>\n",
       "      <td>...</td>\n",
       "      <td>...</td>\n",
       "    </tr>\n",
       "    <tr>\n",
       "      <th>7167</th>\n",
       "      <td>10995</td>\n",
       "      <td>1182265441</td>\n",
       "      <td>脱出ゲーム　わたしをみつけて　-おじいさんとわたしの物語-</td>\n",
       "      <td>177498112</td>\n",
       "      <td>USD</td>\n",
       "      <td>0.00</td>\n",
       "      <td>1</td>\n",
       "      <td>1</td>\n",
       "      <td>1.0</td>\n",
       "      <td>1.0</td>\n",
       "      <td>1.0.1</td>\n",
       "      <td>4+</td>\n",
       "      <td>Games</td>\n",
       "      <td>38</td>\n",
       "      <td>4</td>\n",
       "      <td>1</td>\n",
       "      <td>1</td>\n",
       "    </tr>\n",
       "    <tr>\n",
       "      <th>7168</th>\n",
       "      <td>10998</td>\n",
       "      <td>1182331762</td>\n",
       "      <td>Escape from the frigid Igloo.</td>\n",
       "      <td>89188352</td>\n",
       "      <td>USD</td>\n",
       "      <td>0.00</td>\n",
       "      <td>3</td>\n",
       "      <td>3</td>\n",
       "      <td>4.0</td>\n",
       "      <td>4.0</td>\n",
       "      <td>1.0.1</td>\n",
       "      <td>4+</td>\n",
       "      <td>Games</td>\n",
       "      <td>38</td>\n",
       "      <td>5</td>\n",
       "      <td>1</td>\n",
       "      <td>1</td>\n",
       "    </tr>\n",
       "    <tr>\n",
       "      <th>7169</th>\n",
       "      <td>11002</td>\n",
       "      <td>1182568288</td>\n",
       "      <td>Talking Santa - Video santa claus calls you</td>\n",
       "      <td>32685056</td>\n",
       "      <td>USD</td>\n",
       "      <td>2.99</td>\n",
       "      <td>9</td>\n",
       "      <td>3</td>\n",
       "      <td>3.0</td>\n",
       "      <td>3.5</td>\n",
       "      <td>1.0.1</td>\n",
       "      <td>4+</td>\n",
       "      <td>Entertainment</td>\n",
       "      <td>37</td>\n",
       "      <td>0</td>\n",
       "      <td>31</td>\n",
       "      <td>1</td>\n",
       "    </tr>\n",
       "    <tr>\n",
       "      <th>7170</th>\n",
       "      <td>11010</td>\n",
       "      <td>1183234072</td>\n",
       "      <td>CTFxCmoji</td>\n",
       "      <td>26077184</td>\n",
       "      <td>USD</td>\n",
       "      <td>0.00</td>\n",
       "      <td>39</td>\n",
       "      <td>4</td>\n",
       "      <td>5.0</td>\n",
       "      <td>5.0</td>\n",
       "      <td>1.3</td>\n",
       "      <td>9+</td>\n",
       "      <td>Social Networking</td>\n",
       "      <td>37</td>\n",
       "      <td>1</td>\n",
       "      <td>1</td>\n",
       "      <td>1</td>\n",
       "    </tr>\n",
       "    <tr>\n",
       "      <th>7171</th>\n",
       "      <td>11013</td>\n",
       "      <td>1183260922</td>\n",
       "      <td>Room Escape Game - Santa's Room</td>\n",
       "      <td>143346688</td>\n",
       "      <td>USD</td>\n",
       "      <td>0.00</td>\n",
       "      <td>10</td>\n",
       "      <td>10</td>\n",
       "      <td>5.0</td>\n",
       "      <td>5.0</td>\n",
       "      <td>1</td>\n",
       "      <td>4+</td>\n",
       "      <td>Games</td>\n",
       "      <td>40</td>\n",
       "      <td>0</td>\n",
       "      <td>1</td>\n",
       "      <td>1</td>\n",
       "    </tr>\n",
       "    <tr>\n",
       "      <th>7172</th>\n",
       "      <td>11016</td>\n",
       "      <td>1183548754</td>\n",
       "      <td>Rescue the Enchanter</td>\n",
       "      <td>242505728</td>\n",
       "      <td>USD</td>\n",
       "      <td>3.99</td>\n",
       "      <td>55</td>\n",
       "      <td>29</td>\n",
       "      <td>4.5</td>\n",
       "      <td>4.5</td>\n",
       "      <td>1.4</td>\n",
       "      <td>4+</td>\n",
       "      <td>Games</td>\n",
       "      <td>40</td>\n",
       "      <td>5</td>\n",
       "      <td>1</td>\n",
       "      <td>1</td>\n",
       "    </tr>\n",
       "    <tr>\n",
       "      <th>7173</th>\n",
       "      <td>11019</td>\n",
       "      <td>1183709176</td>\n",
       "      <td>My Diary - 你的名字非官方</td>\n",
       "      <td>18164736</td>\n",
       "      <td>USD</td>\n",
       "      <td>0.99</td>\n",
       "      <td>0</td>\n",
       "      <td>0</td>\n",
       "      <td>0.0</td>\n",
       "      <td>0.0</td>\n",
       "      <td>1.1</td>\n",
       "      <td>4+</td>\n",
       "      <td>Utilities</td>\n",
       "      <td>37</td>\n",
       "      <td>0</td>\n",
       "      <td>1</td>\n",
       "      <td>1</td>\n",
       "    </tr>\n",
       "    <tr>\n",
       "      <th>7174</th>\n",
       "      <td>11022</td>\n",
       "      <td>1183856228</td>\n",
       "      <td>VR Thrills: Roller Coaster 360 (Google Cardboard)</td>\n",
       "      <td>169535488</td>\n",
       "      <td>USD</td>\n",
       "      <td>0.00</td>\n",
       "      <td>14</td>\n",
       "      <td>4</td>\n",
       "      <td>4.0</td>\n",
       "      <td>3.5</td>\n",
       "      <td>1.3.0</td>\n",
       "      <td>4+</td>\n",
       "      <td>Games</td>\n",
       "      <td>37</td>\n",
       "      <td>5</td>\n",
       "      <td>1</td>\n",
       "      <td>1</td>\n",
       "    </tr>\n",
       "    <tr>\n",
       "      <th>7175</th>\n",
       "      <td>11024</td>\n",
       "      <td>1183986102</td>\n",
       "      <td>Santa Kids Hair Salon - Christmas Makeover Games</td>\n",
       "      <td>64244736</td>\n",
       "      <td>USD</td>\n",
       "      <td>0.00</td>\n",
       "      <td>41</td>\n",
       "      <td>19</td>\n",
       "      <td>4.5</td>\n",
       "      <td>4.5</td>\n",
       "      <td>1.3</td>\n",
       "      <td>4+</td>\n",
       "      <td>Games</td>\n",
       "      <td>37</td>\n",
       "      <td>5</td>\n",
       "      <td>25</td>\n",
       "      <td>1</td>\n",
       "    </tr>\n",
       "    <tr>\n",
       "      <th>7176</th>\n",
       "      <td>11027</td>\n",
       "      <td>1184711626</td>\n",
       "      <td>Human Juggling Cup</td>\n",
       "      <td>184324096</td>\n",
       "      <td>USD</td>\n",
       "      <td>0.00</td>\n",
       "      <td>0</td>\n",
       "      <td>0</td>\n",
       "      <td>0.0</td>\n",
       "      <td>0.0</td>\n",
       "      <td>1.0.1</td>\n",
       "      <td>4+</td>\n",
       "      <td>Games</td>\n",
       "      <td>40</td>\n",
       "      <td>4</td>\n",
       "      <td>1</td>\n",
       "      <td>1</td>\n",
       "    </tr>\n",
       "    <tr>\n",
       "      <th>7177</th>\n",
       "      <td>11031</td>\n",
       "      <td>1184800011</td>\n",
       "      <td>Again - room escape game</td>\n",
       "      <td>33946624</td>\n",
       "      <td>USD</td>\n",
       "      <td>0.00</td>\n",
       "      <td>11</td>\n",
       "      <td>8</td>\n",
       "      <td>4.0</td>\n",
       "      <td>4.0</td>\n",
       "      <td>1.1.0</td>\n",
       "      <td>4+</td>\n",
       "      <td>Games</td>\n",
       "      <td>37</td>\n",
       "      <td>5</td>\n",
       "      <td>1</td>\n",
       "      <td>1</td>\n",
       "    </tr>\n",
       "    <tr>\n",
       "      <th>7178</th>\n",
       "      <td>11033</td>\n",
       "      <td>1185209084</td>\n",
       "      <td>Saloons Unleashed</td>\n",
       "      <td>327731200</td>\n",
       "      <td>USD</td>\n",
       "      <td>0.99</td>\n",
       "      <td>0</td>\n",
       "      <td>0</td>\n",
       "      <td>0.0</td>\n",
       "      <td>0.0</td>\n",
       "      <td>1.1</td>\n",
       "      <td>4+</td>\n",
       "      <td>Games</td>\n",
       "      <td>37</td>\n",
       "      <td>5</td>\n",
       "      <td>1</td>\n",
       "      <td>1</td>\n",
       "    </tr>\n",
       "    <tr>\n",
       "      <th>7179</th>\n",
       "      <td>11035</td>\n",
       "      <td>1185328193</td>\n",
       "      <td>Fam — Group video calling for iMessage</td>\n",
       "      <td>113382400</td>\n",
       "      <td>USD</td>\n",
       "      <td>0.00</td>\n",
       "      <td>279</td>\n",
       "      <td>5</td>\n",
       "      <td>3.5</td>\n",
       "      <td>3.0</td>\n",
       "      <td>0.6.41</td>\n",
       "      <td>4+</td>\n",
       "      <td>Social Networking</td>\n",
       "      <td>37</td>\n",
       "      <td>4</td>\n",
       "      <td>1</td>\n",
       "      <td>1</td>\n",
       "    </tr>\n",
       "    <tr>\n",
       "      <th>7180</th>\n",
       "      <td>11036</td>\n",
       "      <td>1185365336</td>\n",
       "      <td>Laurie Hernandez the Human Emoji</td>\n",
       "      <td>94008320</td>\n",
       "      <td>USD</td>\n",
       "      <td>0.00</td>\n",
       "      <td>26</td>\n",
       "      <td>3</td>\n",
       "      <td>5.0</td>\n",
       "      <td>5.0</td>\n",
       "      <td>1.0.5</td>\n",
       "      <td>9+</td>\n",
       "      <td>Utilities</td>\n",
       "      <td>37</td>\n",
       "      <td>4</td>\n",
       "      <td>1</td>\n",
       "      <td>1</td>\n",
       "    </tr>\n",
       "    <tr>\n",
       "      <th>7181</th>\n",
       "      <td>11038</td>\n",
       "      <td>1185428381</td>\n",
       "      <td>剑倚手游</td>\n",
       "      <td>178160640</td>\n",
       "      <td>USD</td>\n",
       "      <td>0.99</td>\n",
       "      <td>0</td>\n",
       "      <td>0</td>\n",
       "      <td>0.0</td>\n",
       "      <td>0.0</td>\n",
       "      <td>1</td>\n",
       "      <td>9+</td>\n",
       "      <td>Games</td>\n",
       "      <td>40</td>\n",
       "      <td>5</td>\n",
       "      <td>0</td>\n",
       "      <td>1</td>\n",
       "    </tr>\n",
       "    <tr>\n",
       "      <th>7182</th>\n",
       "      <td>11040</td>\n",
       "      <td>1185538497</td>\n",
       "      <td>camera for filter</td>\n",
       "      <td>9362432</td>\n",
       "      <td>USD</td>\n",
       "      <td>0.00</td>\n",
       "      <td>0</td>\n",
       "      <td>0</td>\n",
       "      <td>0.0</td>\n",
       "      <td>0.0</td>\n",
       "      <td>1.0.3</td>\n",
       "      <td>4+</td>\n",
       "      <td>Photo &amp; Video</td>\n",
       "      <td>37</td>\n",
       "      <td>0</td>\n",
       "      <td>1</td>\n",
       "      <td>1</td>\n",
       "    </tr>\n",
       "    <tr>\n",
       "      <th>7183</th>\n",
       "      <td>11041</td>\n",
       "      <td>1185580782</td>\n",
       "      <td>Survivalcraft 2</td>\n",
       "      <td>57349120</td>\n",
       "      <td>USD</td>\n",
       "      <td>3.99</td>\n",
       "      <td>292</td>\n",
       "      <td>292</td>\n",
       "      <td>4.0</td>\n",
       "      <td>4.0</td>\n",
       "      <td>2.0.20.1</td>\n",
       "      <td>9+</td>\n",
       "      <td>Games</td>\n",
       "      <td>40</td>\n",
       "      <td>5</td>\n",
       "      <td>1</td>\n",
       "      <td>1</td>\n",
       "    </tr>\n",
       "    <tr>\n",
       "      <th>7184</th>\n",
       "      <td>11042</td>\n",
       "      <td>1185731859</td>\n",
       "      <td>剑客情缘-高爆率高掉落天天疯玩</td>\n",
       "      <td>171944960</td>\n",
       "      <td>USD</td>\n",
       "      <td>0.00</td>\n",
       "      <td>0</td>\n",
       "      <td>0</td>\n",
       "      <td>0.0</td>\n",
       "      <td>0.0</td>\n",
       "      <td>1</td>\n",
       "      <td>9+</td>\n",
       "      <td>Games</td>\n",
       "      <td>40</td>\n",
       "      <td>5</td>\n",
       "      <td>0</td>\n",
       "      <td>1</td>\n",
       "    </tr>\n",
       "    <tr>\n",
       "      <th>7185</th>\n",
       "      <td>11043</td>\n",
       "      <td>1185777521</td>\n",
       "      <td>问仙奇遇-新玩法新套装嗨到爆</td>\n",
       "      <td>208026624</td>\n",
       "      <td>USD</td>\n",
       "      <td>0.99</td>\n",
       "      <td>0</td>\n",
       "      <td>0</td>\n",
       "      <td>0.0</td>\n",
       "      <td>0.0</td>\n",
       "      <td>1</td>\n",
       "      <td>9+</td>\n",
       "      <td>Games</td>\n",
       "      <td>38</td>\n",
       "      <td>5</td>\n",
       "      <td>1</td>\n",
       "      <td>1</td>\n",
       "    </tr>\n",
       "    <tr>\n",
       "      <th>7186</th>\n",
       "      <td>11050</td>\n",
       "      <td>1186108496</td>\n",
       "      <td>脱出ゲーム - 書道教室 -  \"漢字\"の謎に満ちた部屋からの 脱出</td>\n",
       "      <td>85580800</td>\n",
       "      <td>USD</td>\n",
       "      <td>0.00</td>\n",
       "      <td>1</td>\n",
       "      <td>1</td>\n",
       "      <td>2.0</td>\n",
       "      <td>2.0</td>\n",
       "      <td>1.0.1</td>\n",
       "      <td>4+</td>\n",
       "      <td>Games</td>\n",
       "      <td>38</td>\n",
       "      <td>5</td>\n",
       "      <td>1</td>\n",
       "      <td>1</td>\n",
       "    </tr>\n",
       "    <tr>\n",
       "      <th>7187</th>\n",
       "      <td>11051</td>\n",
       "      <td>1186126548</td>\n",
       "      <td>Escape Game: illumination</td>\n",
       "      <td>52342784</td>\n",
       "      <td>USD</td>\n",
       "      <td>0.00</td>\n",
       "      <td>23</td>\n",
       "      <td>23</td>\n",
       "      <td>4.5</td>\n",
       "      <td>4.5</td>\n",
       "      <td>1</td>\n",
       "      <td>4+</td>\n",
       "      <td>Games</td>\n",
       "      <td>37</td>\n",
       "      <td>5</td>\n",
       "      <td>2</td>\n",
       "      <td>1</td>\n",
       "    </tr>\n",
       "    <tr>\n",
       "      <th>7188</th>\n",
       "      <td>11060</td>\n",
       "      <td>1186384912</td>\n",
       "      <td>Demolition Derby Virtual Reality (VR) Racing</td>\n",
       "      <td>168774656</td>\n",
       "      <td>USD</td>\n",
       "      <td>0.00</td>\n",
       "      <td>18</td>\n",
       "      <td>18</td>\n",
       "      <td>4.0</td>\n",
       "      <td>4.0</td>\n",
       "      <td>1.0.0</td>\n",
       "      <td>12+</td>\n",
       "      <td>Games</td>\n",
       "      <td>38</td>\n",
       "      <td>4</td>\n",
       "      <td>1</td>\n",
       "      <td>1</td>\n",
       "    </tr>\n",
       "    <tr>\n",
       "      <th>7189</th>\n",
       "      <td>11074</td>\n",
       "      <td>1187128255</td>\n",
       "      <td>飞刀传奇-动作武侠热血江湖即时PK传奇（登录爆金装）</td>\n",
       "      <td>537462784</td>\n",
       "      <td>USD</td>\n",
       "      <td>0.99</td>\n",
       "      <td>0</td>\n",
       "      <td>0</td>\n",
       "      <td>0.0</td>\n",
       "      <td>0.0</td>\n",
       "      <td>2.1.0</td>\n",
       "      <td>9+</td>\n",
       "      <td>Games</td>\n",
       "      <td>38</td>\n",
       "      <td>5</td>\n",
       "      <td>1</td>\n",
       "      <td>1</td>\n",
       "    </tr>\n",
       "    <tr>\n",
       "      <th>7190</th>\n",
       "      <td>11077</td>\n",
       "      <td>1187279979</td>\n",
       "      <td>Add-Ons Studio for Minecraft</td>\n",
       "      <td>22999040</td>\n",
       "      <td>USD</td>\n",
       "      <td>2.99</td>\n",
       "      <td>97</td>\n",
       "      <td>97</td>\n",
       "      <td>3.0</td>\n",
       "      <td>3.0</td>\n",
       "      <td>1</td>\n",
       "      <td>4+</td>\n",
       "      <td>Games</td>\n",
       "      <td>37</td>\n",
       "      <td>5</td>\n",
       "      <td>3</td>\n",
       "      <td>1</td>\n",
       "    </tr>\n",
       "    <tr>\n",
       "      <th>7191</th>\n",
       "      <td>11079</td>\n",
       "      <td>1187282363</td>\n",
       "      <td>Plead the Fifth - The Game</td>\n",
       "      <td>27853824</td>\n",
       "      <td>USD</td>\n",
       "      <td>2.99</td>\n",
       "      <td>11</td>\n",
       "      <td>0</td>\n",
       "      <td>4.0</td>\n",
       "      <td>0.0</td>\n",
       "      <td>1.1.1</td>\n",
       "      <td>17+</td>\n",
       "      <td>Games</td>\n",
       "      <td>37</td>\n",
       "      <td>0</td>\n",
       "      <td>1</td>\n",
       "      <td>1</td>\n",
       "    </tr>\n",
       "    <tr>\n",
       "      <th>7192</th>\n",
       "      <td>11081</td>\n",
       "      <td>1187617475</td>\n",
       "      <td>Kubik</td>\n",
       "      <td>126644224</td>\n",
       "      <td>USD</td>\n",
       "      <td>0.00</td>\n",
       "      <td>142</td>\n",
       "      <td>75</td>\n",
       "      <td>4.5</td>\n",
       "      <td>4.5</td>\n",
       "      <td>1.3</td>\n",
       "      <td>4+</td>\n",
       "      <td>Games</td>\n",
       "      <td>38</td>\n",
       "      <td>5</td>\n",
       "      <td>1</td>\n",
       "      <td>1</td>\n",
       "    </tr>\n",
       "    <tr>\n",
       "      <th>7193</th>\n",
       "      <td>11082</td>\n",
       "      <td>1187682390</td>\n",
       "      <td>VR Roller-Coaster</td>\n",
       "      <td>120760320</td>\n",
       "      <td>USD</td>\n",
       "      <td>0.00</td>\n",
       "      <td>30</td>\n",
       "      <td>30</td>\n",
       "      <td>4.5</td>\n",
       "      <td>4.5</td>\n",
       "      <td>0.9</td>\n",
       "      <td>4+</td>\n",
       "      <td>Games</td>\n",
       "      <td>38</td>\n",
       "      <td>0</td>\n",
       "      <td>1</td>\n",
       "      <td>1</td>\n",
       "    </tr>\n",
       "    <tr>\n",
       "      <th>7194</th>\n",
       "      <td>11087</td>\n",
       "      <td>1187779532</td>\n",
       "      <td>Bret Michaels Emojis + Lyric Keyboard</td>\n",
       "      <td>111322112</td>\n",
       "      <td>USD</td>\n",
       "      <td>1.99</td>\n",
       "      <td>15</td>\n",
       "      <td>0</td>\n",
       "      <td>4.5</td>\n",
       "      <td>0.0</td>\n",
       "      <td>1.0.2</td>\n",
       "      <td>9+</td>\n",
       "      <td>Utilities</td>\n",
       "      <td>37</td>\n",
       "      <td>1</td>\n",
       "      <td>1</td>\n",
       "      <td>1</td>\n",
       "    </tr>\n",
       "    <tr>\n",
       "      <th>7195</th>\n",
       "      <td>11089</td>\n",
       "      <td>1187838770</td>\n",
       "      <td>VR Roller Coaster World - Virtual Reality</td>\n",
       "      <td>97235968</td>\n",
       "      <td>USD</td>\n",
       "      <td>0.00</td>\n",
       "      <td>85</td>\n",
       "      <td>32</td>\n",
       "      <td>4.5</td>\n",
       "      <td>4.5</td>\n",
       "      <td>1.0.15</td>\n",
       "      <td>12+</td>\n",
       "      <td>Games</td>\n",
       "      <td>38</td>\n",
       "      <td>0</td>\n",
       "      <td>2</td>\n",
       "      <td>1</td>\n",
       "    </tr>\n",
       "    <tr>\n",
       "      <th>7196</th>\n",
       "      <td>11097</td>\n",
       "      <td>1188375727</td>\n",
       "      <td>Escape the Sweet Shop Series</td>\n",
       "      <td>90898432</td>\n",
       "      <td>USD</td>\n",
       "      <td>0.00</td>\n",
       "      <td>3</td>\n",
       "      <td>3</td>\n",
       "      <td>5.0</td>\n",
       "      <td>5.0</td>\n",
       "      <td>1</td>\n",
       "      <td>4+</td>\n",
       "      <td>Games</td>\n",
       "      <td>40</td>\n",
       "      <td>0</td>\n",
       "      <td>2</td>\n",
       "      <td>1</td>\n",
       "    </tr>\n",
       "  </tbody>\n",
       "</table>\n",
       "<p>7197 rows × 17 columns</p>\n",
       "</div>"
      ],
      "text/plain": [
       "      Unnamed: 0          id  \\\n",
       "0              1   281656475   \n",
       "1              2   281796108   \n",
       "2              3   281940292   \n",
       "3              4   282614216   \n",
       "4              5   282935706   \n",
       "5              6   283619399   \n",
       "6              7   283646709   \n",
       "7              8   284035177   \n",
       "8              9   284666222   \n",
       "9             10   284736660   \n",
       "10            11   284791396   \n",
       "11            12   284815117   \n",
       "12            13   284815942   \n",
       "13            14   284847138   \n",
       "14            15   284862767   \n",
       "15            16   284876795   \n",
       "16            17   284882215   \n",
       "17            18   284910350   \n",
       "18            20   284993459   \n",
       "19            21   285005463   \n",
       "20            22   285946052   \n",
       "21            23   285994151   \n",
       "22            24   286058814   \n",
       "23            25   286070473   \n",
       "24            27   286799607   \n",
       "25            28   286906691   \n",
       "26            29   286911400   \n",
       "27            31   288113403   \n",
       "28            32   288120394   \n",
       "29            33   288419283   \n",
       "...          ...         ...   \n",
       "7167       10995  1182265441   \n",
       "7168       10998  1182331762   \n",
       "7169       11002  1182568288   \n",
       "7170       11010  1183234072   \n",
       "7171       11013  1183260922   \n",
       "7172       11016  1183548754   \n",
       "7173       11019  1183709176   \n",
       "7174       11022  1183856228   \n",
       "7175       11024  1183986102   \n",
       "7176       11027  1184711626   \n",
       "7177       11031  1184800011   \n",
       "7178       11033  1185209084   \n",
       "7179       11035  1185328193   \n",
       "7180       11036  1185365336   \n",
       "7181       11038  1185428381   \n",
       "7182       11040  1185538497   \n",
       "7183       11041  1185580782   \n",
       "7184       11042  1185731859   \n",
       "7185       11043  1185777521   \n",
       "7186       11050  1186108496   \n",
       "7187       11051  1186126548   \n",
       "7188       11060  1186384912   \n",
       "7189       11074  1187128255   \n",
       "7190       11077  1187279979   \n",
       "7191       11079  1187282363   \n",
       "7192       11081  1187617475   \n",
       "7193       11082  1187682390   \n",
       "7194       11087  1187779532   \n",
       "7195       11089  1187838770   \n",
       "7196       11097  1188375727   \n",
       "\n",
       "                                             track_name  size_bytes currency  \\\n",
       "0                                       PAC-MAN Premium   100788224      USD   \n",
       "1                             Evernote - stay organized   158578688      USD   \n",
       "2       WeatherBug - Local Weather, Radar, Maps, Alerts   100524032      USD   \n",
       "3     eBay: Best App to Buy, Sell, Save! Online Shop...   128512000      USD   \n",
       "4                                                 Bible    92774400      USD   \n",
       "5                                      Shanghai Mahjong    10485713      USD   \n",
       "6                PayPal - Send and request money safely   227795968      USD   \n",
       "7                               Pandora - Music & Radio   130242560      USD   \n",
       "8                           PCalc - The Best Calculator    49250304      USD   \n",
       "9                                           Ms. PAC-MAN    70023168      USD   \n",
       "10                            Solitaire by MobilityWare    49618944      USD   \n",
       "11                                     SCRABBLE Premium   227547136      USD   \n",
       "12                 Google – Search made just for mobile   179979264      USD   \n",
       "13                     Bank of America - Mobile Banking   160925696      USD   \n",
       "14                                             FreeCell    55153664      USD   \n",
       "15               TripAdvisor Hotels Flights Restaurants   207907840      USD   \n",
       "16                                             Facebook   389879808      USD   \n",
       "17       Yelp - Nearby Restaurants, Shopping & Services   167407616      USD   \n",
       "18    Shazam - Discover music, artists, videos & lyrics   147093504      USD   \n",
       "19                        Crash Bandicoot Nitro Kart 3D    10735026      USD   \n",
       "20                                               iQuran    70707916      USD   \n",
       "21                                          :) Sudoku +     6169600      USD   \n",
       "22      Yahoo Sports - Teams, Scores, News & Highlights   130583552      USD   \n",
       "23                            Mileage Log | Fahrtenbuch    71203840      USD   \n",
       "24                          Cleartune - Chromatic Tuner    11423008      USD   \n",
       "25            Lifesum – Inspiring healthy lifestyle app   188017664      USD   \n",
       "26                                             Hangman.     4765696      USD   \n",
       "27        iTranslate - Language Translator & Dictionary   287933440      USD   \n",
       "28                                             TouchOSC     4263936      USD   \n",
       "29                                           RadarScope   172772352      USD   \n",
       "...                                                 ...         ...      ...   \n",
       "7167                      脱出ゲーム　わたしをみつけて　-おじいさんとわたしの物語-   177498112      USD   \n",
       "7168                      Escape from the frigid Igloo.    89188352      USD   \n",
       "7169        Talking Santa - Video santa claus calls you    32685056      USD   \n",
       "7170                                          CTFxCmoji    26077184      USD   \n",
       "7171                    Room Escape Game - Santa's Room   143346688      USD   \n",
       "7172                               Rescue the Enchanter   242505728      USD   \n",
       "7173                                 My Diary - 你的名字非官方    18164736      USD   \n",
       "7174  VR Thrills: Roller Coaster 360 (Google Cardboard)   169535488      USD   \n",
       "7175   Santa Kids Hair Salon - Christmas Makeover Games    64244736      USD   \n",
       "7176                                 Human Juggling Cup   184324096      USD   \n",
       "7177                           Again - room escape game    33946624      USD   \n",
       "7178                                  Saloons Unleashed   327731200      USD   \n",
       "7179             Fam — Group video calling for iMessage   113382400      USD   \n",
       "7180                   Laurie Hernandez the Human Emoji    94008320      USD   \n",
       "7181                                               剑倚手游   178160640      USD   \n",
       "7182                                  camera for filter     9362432      USD   \n",
       "7183                                    Survivalcraft 2    57349120      USD   \n",
       "7184                                    剑客情缘-高爆率高掉落天天疯玩   171944960      USD   \n",
       "7185                                     问仙奇遇-新玩法新套装嗨到爆   208026624      USD   \n",
       "7186                 脱出ゲーム - 書道教室 -  \"漢字\"の謎に満ちた部屋からの 脱出    85580800      USD   \n",
       "7187                          Escape Game: illumination    52342784      USD   \n",
       "7188       Demolition Derby Virtual Reality (VR) Racing   168774656      USD   \n",
       "7189                         飞刀传奇-动作武侠热血江湖即时PK传奇（登录爆金装）   537462784      USD   \n",
       "7190                       Add-Ons Studio for Minecraft    22999040      USD   \n",
       "7191                         Plead the Fifth - The Game    27853824      USD   \n",
       "7192                                              Kubik   126644224      USD   \n",
       "7193                                  VR Roller-Coaster   120760320      USD   \n",
       "7194              Bret Michaels Emojis + Lyric Keyboard   111322112      USD   \n",
       "7195          VR Roller Coaster World - Virtual Reality    97235968      USD   \n",
       "7196                       Escape the Sweet Shop Series    90898432      USD   \n",
       "\n",
       "      price  rating_count_tot  rating_count_ver  user_rating  user_rating_ver  \\\n",
       "0      3.99             21292                26          4.0              4.5   \n",
       "1      0.00            161065                26          4.0              3.5   \n",
       "2      0.00            188583              2822          3.5              4.5   \n",
       "3      0.00            262241               649          4.0              4.5   \n",
       "4      0.00            985920              5320          4.5              5.0   \n",
       "5      0.99              8253              5516          4.0              4.0   \n",
       "6      0.00            119487               879          4.0              4.5   \n",
       "7      0.00           1126879              3594          4.0              4.5   \n",
       "8      9.99              1117                 4          4.5              5.0   \n",
       "9      3.99              7885                40          4.0              4.0   \n",
       "10     4.99             76720              4017          4.5              4.5   \n",
       "11     7.99            105776               166          3.5              2.5   \n",
       "12     0.00            479440               203          3.5              4.0   \n",
       "13     0.00            119773              2336          3.5              4.5   \n",
       "14     4.99              6340               668          4.5              4.5   \n",
       "15     0.00             56194                87          4.0              3.5   \n",
       "16     0.00           2974676               212          3.5              3.5   \n",
       "17     0.00            223885              3726          4.0              4.5   \n",
       "18     0.00            402925               136          4.0              4.5   \n",
       "19     2.99             31456              4178          4.0              3.5   \n",
       "20     1.99              2929               966          4.5              4.5   \n",
       "21     2.99             11447               781          5.0              5.0   \n",
       "22     0.00            137951               131          4.0              4.5   \n",
       "23     5.99                 8                 0          4.5              0.0   \n",
       "24     3.99              3241               297          4.0              4.0   \n",
       "25     0.00              5795                12          3.5              4.0   \n",
       "26     0.00             42316               248          3.0              3.5   \n",
       "27     0.00            123215                25          3.5              5.0   \n",
       "28     4.99               782                 7          4.0              3.5   \n",
       "29     9.99              3449                23          4.0              4.5   \n",
       "...     ...               ...               ...          ...              ...   \n",
       "7167   0.00                 1                 1          1.0              1.0   \n",
       "7168   0.00                 3                 3          4.0              4.0   \n",
       "7169   2.99                 9                 3          3.0              3.5   \n",
       "7170   0.00                39                 4          5.0              5.0   \n",
       "7171   0.00                10                10          5.0              5.0   \n",
       "7172   3.99                55                29          4.5              4.5   \n",
       "7173   0.99                 0                 0          0.0              0.0   \n",
       "7174   0.00                14                 4          4.0              3.5   \n",
       "7175   0.00                41                19          4.5              4.5   \n",
       "7176   0.00                 0                 0          0.0              0.0   \n",
       "7177   0.00                11                 8          4.0              4.0   \n",
       "7178   0.99                 0                 0          0.0              0.0   \n",
       "7179   0.00               279                 5          3.5              3.0   \n",
       "7180   0.00                26                 3          5.0              5.0   \n",
       "7181   0.99                 0                 0          0.0              0.0   \n",
       "7182   0.00                 0                 0          0.0              0.0   \n",
       "7183   3.99               292               292          4.0              4.0   \n",
       "7184   0.00                 0                 0          0.0              0.0   \n",
       "7185   0.99                 0                 0          0.0              0.0   \n",
       "7186   0.00                 1                 1          2.0              2.0   \n",
       "7187   0.00                23                23          4.5              4.5   \n",
       "7188   0.00                18                18          4.0              4.0   \n",
       "7189   0.99                 0                 0          0.0              0.0   \n",
       "7190   2.99                97                97          3.0              3.0   \n",
       "7191   2.99                11                 0          4.0              0.0   \n",
       "7192   0.00               142                75          4.5              4.5   \n",
       "7193   0.00                30                30          4.5              4.5   \n",
       "7194   1.99                15                 0          4.5              0.0   \n",
       "7195   0.00                85                32          4.5              4.5   \n",
       "7196   0.00                 3                 3          5.0              5.0   \n",
       "\n",
       "           ver cont_rating        prime_genre  sup_devices.num  \\\n",
       "0        6.3.5          4+              Games               38   \n",
       "1        8.2.2          4+       Productivity               37   \n",
       "2        5.0.0          4+            Weather               37   \n",
       "3       5.10.0         12+           Shopping               37   \n",
       "4        7.5.1          4+          Reference               37   \n",
       "5          1.8          4+              Games               47   \n",
       "6       6.12.0          4+            Finance               37   \n",
       "7        8.4.1         12+              Music               37   \n",
       "8        3.6.6          4+          Utilities               37   \n",
       "9        4.0.4          4+              Games               38   \n",
       "10      4.10.1          4+              Games               38   \n",
       "11      5.19.0          4+              Games               37   \n",
       "12          27         17+          Utilities               37   \n",
       "13       7.3.8          4+            Finance               37   \n",
       "14       4.0.3          4+              Games               38   \n",
       "15        21.1          4+             Travel               37   \n",
       "16          95          4+  Social Networking               37   \n",
       "17     11.15.0         12+             Travel               37   \n",
       "18      11.0.3         12+              Music               37   \n",
       "19       1.0.0          4+              Games               47   \n",
       "20         3.3          4+          Reference               43   \n",
       "21       5.2.6          4+              Games               40   \n",
       "22         6.9          4+             Sports               37   \n",
       "23       9.0.5          4+           Business               37   \n",
       "24       2.1.3          4+              Music               43   \n",
       "25       8.4.1          4+   Health & Fitness               37   \n",
       "26       2.0.6          9+              Games               38   \n",
       "27      10.5.4          4+       Productivity               37   \n",
       "28       1.9.8          4+              Music               43   \n",
       "29       3.4.1          4+            Weather               37   \n",
       "...        ...         ...                ...              ...   \n",
       "7167     1.0.1          4+              Games               38   \n",
       "7168     1.0.1          4+              Games               38   \n",
       "7169     1.0.1          4+      Entertainment               37   \n",
       "7170       1.3          9+  Social Networking               37   \n",
       "7171         1          4+              Games               40   \n",
       "7172       1.4          4+              Games               40   \n",
       "7173       1.1          4+          Utilities               37   \n",
       "7174     1.3.0          4+              Games               37   \n",
       "7175       1.3          4+              Games               37   \n",
       "7176     1.0.1          4+              Games               40   \n",
       "7177     1.1.0          4+              Games               37   \n",
       "7178       1.1          4+              Games               37   \n",
       "7179    0.6.41          4+  Social Networking               37   \n",
       "7180     1.0.5          9+          Utilities               37   \n",
       "7181         1          9+              Games               40   \n",
       "7182     1.0.3          4+      Photo & Video               37   \n",
       "7183  2.0.20.1          9+              Games               40   \n",
       "7184         1          9+              Games               40   \n",
       "7185         1          9+              Games               38   \n",
       "7186     1.0.1          4+              Games               38   \n",
       "7187         1          4+              Games               37   \n",
       "7188     1.0.0         12+              Games               38   \n",
       "7189     2.1.0          9+              Games               38   \n",
       "7190         1          4+              Games               37   \n",
       "7191     1.1.1         17+              Games               37   \n",
       "7192       1.3          4+              Games               38   \n",
       "7193       0.9          4+              Games               38   \n",
       "7194     1.0.2          9+          Utilities               37   \n",
       "7195    1.0.15         12+              Games               38   \n",
       "7196         1          4+              Games               40   \n",
       "\n",
       "      ipadSc_urls.num  lang.num  vpp_lic  \n",
       "0                   5        10        1  \n",
       "1                   5        23        1  \n",
       "2                   5         3        1  \n",
       "3                   5         9        1  \n",
       "4                   5        45        1  \n",
       "5                   5         1        1  \n",
       "6                   0        19        1  \n",
       "7                   4         1        1  \n",
       "8                   5         1        1  \n",
       "9                   0        10        1  \n",
       "10                  4        11        1  \n",
       "11                  0         6        1  \n",
       "12                  4        33        1  \n",
       "13                  0         2        1  \n",
       "14                  5         2        1  \n",
       "15                  1        26        1  \n",
       "16                  1        29        1  \n",
       "17                  5        18        1  \n",
       "18                  3        16        1  \n",
       "19                  0         1        1  \n",
       "20                  0         2        1  \n",
       "21                  5         1        1  \n",
       "22                  2         6        1  \n",
       "23                  5         3        1  \n",
       "24                  2        10        1  \n",
       "25                  5        11        1  \n",
       "26                  0         1        1  \n",
       "27                  5        23        1  \n",
       "28                  1         1        1  \n",
       "29                  5         1        1  \n",
       "...               ...       ...      ...  \n",
       "7167                4         1        1  \n",
       "7168                5         1        1  \n",
       "7169                0        31        1  \n",
       "7170                1         1        1  \n",
       "7171                0         1        1  \n",
       "7172                5         1        1  \n",
       "7173                0         1        1  \n",
       "7174                5         1        1  \n",
       "7175                5        25        1  \n",
       "7176                4         1        1  \n",
       "7177                5         1        1  \n",
       "7178                5         1        1  \n",
       "7179                4         1        1  \n",
       "7180                4         1        1  \n",
       "7181                5         0        1  \n",
       "7182                0         1        1  \n",
       "7183                5         1        1  \n",
       "7184                5         0        1  \n",
       "7185                5         1        1  \n",
       "7186                5         1        1  \n",
       "7187                5         2        1  \n",
       "7188                4         1        1  \n",
       "7189                5         1        1  \n",
       "7190                5         3        1  \n",
       "7191                0         1        1  \n",
       "7192                5         1        1  \n",
       "7193                0         1        1  \n",
       "7194                1         1        1  \n",
       "7195                0         2        1  \n",
       "7196                0         2        1  \n",
       "\n",
       "[7197 rows x 17 columns]"
      ]
     },
     "execution_count": 2,
     "metadata": {},
     "output_type": "execute_result"
    }
   ],
   "source": [
    "apps"
   ]
  },
  {
   "cell_type": "markdown",
   "metadata": {},
   "source": [
    "### Visualizing with pandas.plot()\n",
    "Pandas really is designed for data scientists. In addition to the dataframe features which we observed last week, pandas also comes pre-built with plotting features. Pandas also provides some [excellent documentation on plotting](https://pandas.pydata.org/pandas-docs/stable/user_guide/visualization.html#basic-plotting-plot) which I encourage you to read.\n",
    "\n",
    "Let's start by trying to plot our dataframe. Surprisingly, pandas is smart enough to allow us to do this, though it is certainly not pretty! We will need to be a bit more specific about what we want to visualize before proceeding."
   ]
  },
  {
   "cell_type": "code",
   "execution_count": 3,
   "metadata": {},
   "outputs": [
    {
     "data": {
      "text/plain": [
       "<matplotlib.axes._subplots.AxesSubplot at 0x2955f8f6518>"
      ]
     },
     "execution_count": 3,
     "metadata": {},
     "output_type": "execute_result"
    },
    {
     "data": {
      "image/png": "[encoded data removed]",
      "text/plain": [
       "<Figure size 432x288 with 1 Axes>"
      ]
     },
     "metadata": {
      "needs_background": "light"
     },
     "output_type": "display_data"
    }
   ],
   "source": [
    "apps.plot() # plots the dataframe"
   ]
  },
  {
   "cell_type": "markdown",
   "metadata": {},
   "source": [
    "The graph above is meaningless. Let's try to focus on more specific elements of this dataframe."
   ]
  },
  {
   "cell_type": "markdown",
   "metadata": {},
   "source": [
    "### Plot a series\n",
    "The first way that we might make sense of the data is by visualizing series from the data. However, simply using `.plot()` with a series suffers from serious problems. Try executing the visualization below, which attempts to visualize the user ratings for the current version of each app. **This is is not yet intelligible.**"
   ]
  },
  {
   "cell_type": "code",
   "execution_count": 4,
   "metadata": {},
   "outputs": [
    {
     "data": {
      "text/plain": [
       "<matplotlib.axes._subplots.AxesSubplot at 0x295612b2b70>"
      ]
     },
     "execution_count": 4,
     "metadata": {},
     "output_type": "execute_result"
    },
    {
     "data": {
      "image/png": "[encoded data removed]",
      "text/plain": [
       "<Figure size 432x288 with 1 Axes>"
      ]
     },
     "metadata": {
      "needs_background": "light"
     },
     "output_type": "display_data"
    }
   ],
   "source": [
    "apps['user_rating_ver'].plot() # visualize user ratings for the current version of the app"
   ]
  },
  {
   "cell_type": "markdown",
   "metadata": {},
   "source": [
    "Though pandas is smart, it is not **that** smart. When we naively try to visualize the version, we end up with unreadable garbage. Fortunately, we can alter our series to suit our needs. Consider visualizing the sorted user ratings. Note that we have to explicitly tell pandas to not order these by the original index values."
   ]
  },
  {
   "cell_type": "code",
   "execution_count": 5,
   "metadata": {},
   "outputs": [
    {
     "data": {
      "text/plain": [
       "<matplotlib.axes._subplots.AxesSubplot at 0x2956119fa20>"
      ]
     },
     "execution_count": 5,
     "metadata": {},
     "output_type": "execute_result"
    },
    {
     "data": {
      "image/png": "[encoded data removed]",
      "text/plain": [
       "<Figure size 432x288 with 1 Axes>"
      ]
     },
     "metadata": {
      "needs_background": "light"
     },
     "output_type": "display_data"
    }
   ],
   "source": [
    "apps['user_rating_ver'].sort_values().plot(use_index=False) # sort the series and then plot it"
   ]
  },
  {
   "cell_type": "markdown",
   "metadata": {},
   "source": [
    "Much better!\n",
    "### Specifying axes and figure size\n",
    "It's important to remember that when making plots we specify an axis. For instance, if we only wanted to show the number of ratings received for an app, we could specify the y axis as `rating_count_tot`. To make our graph more readable, we can also change the figure size by specifying `figsize=(12,6)` -- 12 inches by 6 inches."
   ]
  },
  {
   "cell_type": "code",
   "execution_count": 6,
   "metadata": {},
   "outputs": [
    {
     "data": {
      "text/plain": [
       "<matplotlib.axes._subplots.AxesSubplot at 0x29561211cf8>"
      ]
     },
     "execution_count": 6,
     "metadata": {},
     "output_type": "execute_result"
    },
    {
     "data": {
      "image/png": "[encoded data removed]",
      "text/plain": [
       "<Figure size 864x432 with 1 Axes>"
      ]
     },
     "metadata": {
      "needs_background": "light"
     },
     "output_type": "display_data"
    }
   ],
   "source": [
    "apps.plot(y='rating_count_tot', figsize=(12,6))"
   ]
  },
  {
   "cell_type": "markdown",
   "metadata": {},
   "source": [
    "If we wished instead to visualize a subset of the data, say only highly rated apps, we could create a subset similarly to Lab 8. We can then use `plot()` to visualize the results. The result will still not be informative, but it is progress."
   ]
  },
  {
   "cell_type": "code",
   "execution_count": 7,
   "metadata": {},
   "outputs": [
    {
     "data": {
      "text/plain": [
       "<matplotlib.axes._subplots.AxesSubplot at 0x2956127d240>"
      ]
     },
     "execution_count": 7,
     "metadata": {},
     "output_type": "execute_result"
    },
    {
     "data": {
      "image/png": "[encoded data removed]",
      "text/plain": [
       "<Figure size 432x288 with 1 Axes>"
      ]
     },
     "metadata": {
      "needs_background": "light"
     },
     "output_type": "display_data"
    }
   ],
   "source": [
    "highly_rated = apps[(apps['user_rating'] == 5) &\n",
    "                    (apps['rating_count_tot'] > 100000)] # a subset of apps with ratings of 5 and at least 100 000 ratings\n",
    "\n",
    "highly_rated.plot(y='rating_count_tot') # manually specify the y value, in this case rating count"
   ]
  },
  {
   "cell_type": "markdown",
   "metadata": {},
   "source": [
    "### Try a different plot\n",
    "Our visualization needs two things in order to be useful. The first is a useful visualization for comparing the different states identified. The second is a decent x label. We can solve these problems by asking pandas to create a bar plot with the `track_name` axis. As you recall, track name is the name of the app. \n",
    "\n",
    "**Note:** you will probably get a warning about a missing glyph. This is because of encoding issues with some of the characters."
   ]
  },
  {
   "cell_type": "code",
   "execution_count": 8,
   "metadata": {},
   "outputs": [
    {
     "data": {
      "text/plain": [
       "<matplotlib.axes._subplots.AxesSubplot at 0x295612734e0>"
      ]
     },
     "execution_count": 8,
     "metadata": {},
     "output_type": "execute_result"
    },
    {
     "name": "stderr",
     "output_type": "stream",
     "text": [
      "C:\\Users\\Jaswanth\\Anaconda3\\lib\\site-packages\\matplotlib\\backends\\backend_agg.py:211: RuntimeWarning: Glyph 9412 missing from current font.\n",
      "  font.set_text(s, 0.0, flags=flags)\n",
      "C:\\Users\\Jaswanth\\Anaconda3\\lib\\site-packages\\matplotlib\\backends\\backend_agg.py:180: RuntimeWarning: Glyph 9412 missing from current font.\n",
      "  font.set_text(s, 0, flags=flags)\n"
     ]
    },
    {
     "data": {
      "image/png": "[encoded data removed]",
      "text/plain": [
       "<Figure size 864x432 with 1 Axes>"
      ]
     },
     "metadata": {
      "needs_background": "light"
     },
     "output_type": "display_data"
    }
   ],
   "source": [
    "sorted_rated = highly_rated.sort_values(by='rating_count_tot') # sort the data\n",
    "\n",
    "sorted_rated.plot.bar(x='track_name', y='rating_count_tot', figsize=(12,6)) # specify bar plot with the x value of track name"
   ]
  },
  {
   "cell_type": "markdown",
   "metadata": {},
   "source": [
    "This is a fine graph of the apps with an average rating of 5 and at large number of ratings! I am sure that many of you use these apps (I counted 3 which I use). "
   ]
  },
  {
   "cell_type": "markdown",
   "metadata": {},
   "source": [
    "### Remove outliers\n",
    "Finally, there are other types of visualizations which could be useful. For instance, a scatter plot can be used to compare the variance between two variables. Let's plot the rating count and price to see whether there is a relationship."
   ]
  },
  {
   "cell_type": "code",
   "execution_count": 9,
   "metadata": {},
   "outputs": [
    {
     "data": {
      "text/plain": [
       "<matplotlib.axes._subplots.AxesSubplot at 0x29561273710>"
      ]
     },
     "execution_count": 9,
     "metadata": {},
     "output_type": "execute_result"
    },
    {
     "data": {
      "image/png": "[encoded data removed]",
      "text/plain": [
       "<Figure size 432x288 with 1 Axes>"
      ]
     },
     "metadata": {
      "needs_background": "light"
     },
     "output_type": "display_data"
    }
   ],
   "source": [
    "price_rating = apps[['price', 'rating_count_tot', 'rating_count_ver']] # we will include three series in this dataframe\n",
    "\n",
    "price_rating.plot.scatter(x='price', y='rating_count_tot') # we choose to only visualize two of them"
   ]
  },
  {
   "cell_type": "markdown",
   "metadata": {},
   "source": [
    "Right away, it is clear that there are some outliers with a small number of ratings and high price, as well as a high number of ratings and low price. We can remove the outliers to try and make sense of this graph. There are many ways to remove outliers, such as by using standard deviation. However, for the purposes of *Introduction to Data Science* it is sufficient to simply remove values that seem too extreme. The code below removes price values which are greater than 50 and rating counts which are greater than 100000. "
   ]
  },
  {
   "cell_type": "code",
   "execution_count": 10,
   "metadata": {},
   "outputs": [
    {
     "data": {
      "text/plain": [
       "<matplotlib.axes._subplots.AxesSubplot at 0x295625287f0>"
      ]
     },
     "execution_count": 10,
     "metadata": {},
     "output_type": "execute_result"
    },
    {
     "data": {
      "image/png": "[encoded data removed]",
      "text/plain": [
       "<Figure size 432x288 with 1 Axes>"
      ]
     },
     "metadata": {
      "needs_background": "light"
     },
     "output_type": "display_data"
    }
   ],
   "source": [
    "apps_clean = apps[(apps['price'] < 50) &\n",
    "                  (apps['rating_count_tot'] < 100000) &\n",
    "                  (apps['rating_count_ver'] < 100000)]\n",
    "\n",
    "apps_clean.plot.scatter(x='price', y='rating_count_tot')"
   ]
  },
  {
   "cell_type": "markdown",
   "metadata": {},
   "source": [
    "## Challenge Question 1 (2 points)\n",
    "Take a subset of the data where `prime_genere` is equal to `Games`. Generate a scatter plot with the number of languages on one axis and the price on the other. Do you think this tells us something about the relationship between these variables? "
   ]
  },
  {
   "cell_type": "code",
   "execution_count": 11,
   "metadata": {},
   "outputs": [
    {
     "data": {
      "text/plain": [
       "<matplotlib.axes._subplots.AxesSubplot at 0x2956270e6d8>"
      ]
     },
     "execution_count": 11,
     "metadata": {},
     "output_type": "execute_result"
    },
    {
     "data": {
      "image/png": "[encoded data removed]",
      "text/plain": [
       "<Figure size 432x288 with 1 Axes>"
      ]
     },
     "metadata": {
      "needs_background": "light"
     },
     "output_type": "display_data"
    }
   ],
   "source": [
    "pri=apps[apps.prime_genre =='Games']\n",
    "pri.plot.scatter(x='lang.num',y='price')"
   ]
  },
  {
   "cell_type": "markdown",
   "metadata": {},
   "source": [
    "# Objective 2: Visualize a grouped dataframe\n",
    "So far so good. What we have done so far works for continuous variables such as `price`, but not nominal variables such `prime_genre`. For instance, if we simply visualize `prime_genre` on the x axis, we will get a nonsensical graph. "
   ]
  },
  {
   "cell_type": "code",
   "execution_count": 12,
   "metadata": {},
   "outputs": [
    {
     "data": {
      "text/plain": [
       "<matplotlib.axes._subplots.AxesSubplot at 0x29562775dd8>"
      ]
     },
     "execution_count": 12,
     "metadata": {},
     "output_type": "execute_result"
    },
    {
     "data": {
      "image/png": "[encoded data removed]",
      "text/plain": [
       "<Figure size 432x288 with 1 Axes>"
      ]
     },
     "metadata": {
      "needs_background": "light"
     },
     "output_type": "display_data"
    }
   ],
   "source": [
    "apps.plot(x='prime_genre', y='rating_count_ver')"
   ]
  },
  {
   "cell_type": "markdown",
   "metadata": {},
   "source": [
    "To effectively analyze discrete variables we need to use a `groupby` query. Pandas [also has great documentation](https://pandas.pydata.org/pandas-docs/stable/user_guide/groupby.html) on this concept so be sure to take a look. Much like with SQL, we can use `groupby` to specify sets of data which we wish to analyze. \n",
    "\n",
    "For instance, to analyze the median user rating for each genre, we could create a grouped dataframe by grouping by primary genre. We can then retrieve the median values of each genre easily."
   ]
  },
  {
   "cell_type": "code",
   "execution_count": 13,
   "metadata": {},
   "outputs": [
    {
     "data": {
      "text/plain": [
       "prime_genre\n",
       "Book                 3.50\n",
       "Business             4.00\n",
       "Catalogs             1.75\n",
       "Education            4.00\n",
       "Entertainment        3.50\n",
       "Finance              3.00\n",
       "Food & Drink         4.00\n",
       "Games                4.50\n",
       "Health & Fitness     4.50\n",
       "Lifestyle            3.50\n",
       "Medical              4.50\n",
       "Music                4.00\n",
       "Navigation           3.50\n",
       "News                 3.50\n",
       "Photo & Video        4.50\n",
       "Productivity         4.50\n",
       "Reference            4.00\n",
       "Shopping             4.00\n",
       "Social Networking    3.50\n",
       "Sports               3.50\n",
       "Travel               4.00\n",
       "Utilities            4.00\n",
       "Weather              4.00\n",
       "Name: user_rating, dtype: float64"
      ]
     },
     "execution_count": 13,
     "metadata": {},
     "output_type": "execute_result"
    }
   ],
   "source": [
    "avg = apps.groupby('prime_genre') # group by primary genre\n",
    "\n",
    "avg['user_rating'].median() # provide the median user rating for each "
   ]
  },
  {
   "cell_type": "markdown",
   "metadata": {},
   "source": [
    "To visualize this on a graph, we could simply create a bar plot. This is a useful visualization for understanding the median user ratings for each genre. Some genres, such as Catalogs, fare poorly."
   ]
  },
  {
   "cell_type": "code",
   "execution_count": 14,
   "metadata": {},
   "outputs": [
    {
     "data": {
      "text/plain": [
       "<matplotlib.axes._subplots.AxesSubplot at 0x295627e6b70>"
      ]
     },
     "execution_count": 14,
     "metadata": {},
     "output_type": "execute_result"
    },
    {
     "data": {
      "image/png": "[encoded data removed]",
      "text/plain": [
       "<Figure size 432x288 with 1 Axes>"
      ]
     },
     "metadata": {
      "needs_background": "light"
     },
     "output_type": "display_data"
    }
   ],
   "source": [
    "avg['user_rating'].median().plot.bar()"
   ]
  },
  {
   "cell_type": "markdown",
   "metadata": {},
   "source": [
    "## Challenge Question 2 (2 points)\n",
    "Create a bar graph which visualizes the mean price for each `content_rating`. Is there a trend? "
   ]
  },
  {
   "cell_type": "code",
   "execution_count": 15,
   "metadata": {},
   "outputs": [
    {
     "data": {
      "text/plain": [
       "<matplotlib.axes._subplots.AxesSubplot at 0x29562aae198>"
      ]
     },
     "execution_count": 15,
     "metadata": {},
     "output_type": "execute_result"
    },
    {
     "data": {
      "image/png": "[encoded data removed]",
      "text/plain": [
       "<Figure size 432x288 with 1 Axes>"
      ]
     },
     "metadata": {
      "needs_background": "light"
     },
     "output_type": "display_data"
    }
   ],
   "source": [
    "mean = apps.groupby('cont_rating') # group by primary genre\n",
    "mean['price'].mean().plot.bar()"
   ]
  },
  {
   "cell_type": "markdown",
   "metadata": {},
   "source": [
    "## Challenge Question 3 (1 point)\n",
    "Visualize the sum of the total rating count for each genre. Instead of a bar graph, use a pie chart. If you get stuck, consider [reading the docs](https://pandas.pydata.org/pandas-docs/stable/user_guide/visualization.html#pie-plot) on `plot.pie()`."
   ]
  },
  {
   "cell_type": "code",
   "execution_count": 16,
   "metadata": {},
   "outputs": [
    {
     "data": {
      "text/plain": [
       "<matplotlib.axes._subplots.AxesSubplot at 0x29563198c18>"
      ]
     },
     "execution_count": 16,
     "metadata": {},
     "output_type": "execute_result"
    },
    {
     "data": {
      "image/png": "[encoded data removed]",
      "text/plain": [
       "<Figure size 432x288 with 1 Axes>"
      ]
     },
     "metadata": {},
     "output_type": "display_data"
    }
   ],
   "source": [
    "sum=apps.groupby('prime_genre')\n",
    "sum['rating_count_tot'].sum().plot.pie()"
   ]
  },
  {
   "cell_type": "markdown",
   "metadata": {},
   "source": [
    "# Objective 3: Change your plot styles\n",
    "So far, we have focused on creating various graphs with the data. In addition to creating graphs, we can also change features of these graphs such as their colors, shapes, textures or legend. For instance, if we revisit our scatter plot, we can change the color by specifying `color='DarkGreen'` as an input to the method."
   ]
  },
  {
   "cell_type": "code",
   "execution_count": 17,
   "metadata": {},
   "outputs": [
    {
     "data": {
      "text/plain": [
       "<matplotlib.axes._subplots.AxesSubplot at 0x29563225e80>"
      ]
     },
     "execution_count": 17,
     "metadata": {},
     "output_type": "execute_result"
    },
    {
     "data": {
      "image/png": "[encoded data removed]",
      "text/plain": [
       "<Figure size 432x288 with 1 Axes>"
      ]
     },
     "metadata": {
      "needs_background": "light"
     },
     "output_type": "display_data"
    }
   ],
   "source": [
    "apps_clean.plot.scatter(x='price', y='rating_count_tot', color='DarkGreen')"
   ]
  },
  {
   "cell_type": "markdown",
   "metadata": {},
   "source": [
    "You can also specify colors which change with the data variables. The visualization below changes color based on the `user_rating`."
   ]
  },
  {
   "cell_type": "code",
   "execution_count": 18,
   "metadata": {},
   "outputs": [
    {
     "data": {
      "text/plain": [
       "<matplotlib.axes._subplots.AxesSubplot at 0x295632256a0>"
      ]
     },
     "execution_count": 18,
     "metadata": {},
     "output_type": "execute_result"
    },
    {
     "data": {
      "image/png": "[encoded data removed]",
      "text/plain": [
       "<Figure size 432x288 with 1 Axes>"
      ]
     },
     "metadata": {
      "needs_background": "light"
     },
     "output_type": "display_data"
    }
   ],
   "source": [
    "apps_clean.plot.scatter(x='price', y='rating_count_tot', color=apps_clean['user_rating'])"
   ]
  },
  {
   "cell_type": "markdown",
   "metadata": {},
   "source": [
    "Finally, you can also change other variables, though these depend on the graph in question. Scatterplots allow you to change based on size, though other graphs can be altered based on variables such as the presence of legends or textures. The graph below changes size depending on the `lang.num`, though this is not terribly informative."
   ]
  },
  {
   "cell_type": "code",
   "execution_count": 19,
   "metadata": {},
   "outputs": [
    {
     "data": {
      "text/plain": [
       "<matplotlib.axes._subplots.AxesSubplot at 0x295642fa668>"
      ]
     },
     "execution_count": 19,
     "metadata": {},
     "output_type": "execute_result"
    },
    {
     "data": {
      "image/png": "[encoded data removed]",
      "text/plain": [
       "<Figure size 432x288 with 1 Axes>"
      ]
     },
     "metadata": {
      "needs_background": "light"
     },
     "output_type": "display_data"
    }
   ],
   "source": [
    "apps_clean.plot.scatter(x='price', y='rating_count_tot', c=apps_clean['user_rating'], s=apps_clean['lang.num'] * 10)"
   ]
  },
  {
   "cell_type": "markdown",
   "metadata": {},
   "source": [
    "## Challenge Question 4 (3 points)"
   ]
  },
  {
   "cell_type": "markdown",
   "metadata": {},
   "source": [
    "Based on what you just learned, create a bar plot which achieves the following:\n",
    "- Visualizes the 5 most expensive education apps\n",
    "- Price should be provided on the Y axis\n",
    "- The application names should be provided on the X axis\n",
    "- The graph should have the color `DarkOrange`\n",
    "- The legend should be removed from the graph"
   ]
  },
  {
   "cell_type": "code",
   "execution_count": 20,
   "metadata": {},
   "outputs": [
    {
     "data": {
      "text/plain": [
       "<matplotlib.axes._subplots.AxesSubplot at 0x295642ace48>"
      ]
     },
     "execution_count": 20,
     "metadata": {},
     "output_type": "execute_result"
    },
    {
     "data": {
      "image/png": "[encoded data removed]",
      "text/plain": [
       "<Figure size 432x288 with 1 Axes>"
      ]
     },
     "metadata": {
      "needs_background": "light"
     },
     "output_type": "display_data"
    }
   ],
   "source": [
    "exp=apps[apps.prime_genre =='Education']\n",
    "sort_vals = exp.nlargest(5,'price')\n",
    "sort_vals.plot.bar(x='track_name',y='price',color='DarkOrange',legend=None)"
   ]
  },
  {
   "cell_type": "markdown",
   "metadata": {},
   "source": [
    "# Objective 4: Conduct inferential analysis with a t-test\n",
    "In this final objective we will switch gears briefly to inferential statistics. So far, we have explored features of the data which can be used to learn something new about the world. In addition to description however, we can also use data to *infer* something. \n",
    "\n",
    "You have probably heard this type of statistics in action before. For example:\n",
    "\n",
    "> \"The mean incubation period was 5.2 days (95% confidence interval [CI], 4.1 to 7.0), with the 95th percentile of the distribution at 12.5 days\" (Li, Q. et al., 2020).\n",
    "\n",
    "From the statement above, scientists are able to conclude that a 14-day period of self-isolation would be sufficient to take action against COVID-19. They *inferred* this from early data in China. The data observed a likely true incubation period between 4.1 and 7 days, and 95\\% of the cases seeing onset of symptoms by 12.5 days. \n",
    "\n",
    "We will **not** solve COVID-19 in this class. However, we can learn something about inferential statistics before concluding the semester. We will learn about the most common technique: [Student's t-test](https://en.wikipedia.org/wiki/Student%27s_t-test). \n",
    "\n",
    "The t-test is fundamentally a test to compare two series of data and determine the probability that they are the same. Without going into the math, the logic of the test is simple: if two datasets have a low probability of representing the same phenomenon, we can conclude that they are different. In social science, we normally consider data to come from different sources when they have a probability of **less than 5\\%**.\n",
    "\n",
    "Let's start by importing a statistics library from scipy, one of Python's science libraries. From this we will import the independent ttest. "
   ]
  },
  {
   "cell_type": "code",
   "execution_count": 21,
   "metadata": {},
   "outputs": [],
   "source": [
    "from scipy.stats import ttest_ind"
   ]
  },
  {
   "cell_type": "markdown",
   "metadata": {},
   "source": [
    "This test can be used to compare whether two sets of ratings are actually different. Let's start by comparing ratings from `Finance` apps and `Games` apps. We can start by gathering two subsets."
   ]
  },
  {
   "cell_type": "code",
   "execution_count": 22,
   "metadata": {},
   "outputs": [],
   "source": [
    "finance = apps[apps['prime_genre'] == 'Finance']\n",
    "\n",
    "games = apps[apps['prime_genre'] == 'Games']"
   ]
  },
  {
   "cell_type": "markdown",
   "metadata": {},
   "source": [
    "Once we have our two subsets, we can run the test. This will return two values. The first is the test statistic, which is what the model uses to conclude probability. The second is the `pvalue`, which is the probability that the two phenomena are the same. In this case, `p < 0.0001` which means there is less than a 0.01\\% chance that these came from the same source. **We can conclude there is a significant difference between the ratings of Catalogs and Games apps**.\n",
    "\n",
    "**Note**: `e-17` means \"multiplied by 1 to the power of -17\", which is something like 0.00000000000000001."
   ]
  },
  {
   "cell_type": "code",
   "execution_count": 23,
   "metadata": {},
   "outputs": [
    {
     "data": {
      "text/plain": [
       "Ttest_indResult(statistic=-8.517309106641765, pvalue=2.2872756129060005e-17)"
      ]
     },
     "execution_count": 23,
     "metadata": {},
     "output_type": "execute_result"
    }
   ],
   "source": [
    "ttest_ind(finance['user_rating'], games['user_rating'])"
   ]
  },
  {
   "cell_type": "markdown",
   "metadata": {},
   "source": [
    "## Understanding why this works\n",
    "Again, without going into the math, the main reason why the t-test works is because the mean and distribution of the values are very different. Let's look at the values for Finance by observing the mean, standard deviation and histogram. There are many apps which have low ratings with a mean of just under 2.5."
   ]
  },
  {
   "cell_type": "code",
   "execution_count": 24,
   "metadata": {},
   "outputs": [
    {
     "name": "stdout",
     "output_type": "stream",
     "text": [
      "Finance mean: 2.4326923076923075 | Finance stv:1.8591908829804786\n"
     ]
    }
   ],
   "source": [
    "print(\"Finance mean: \" + str(finance['user_rating'].mean()) + \" | Finance stv:\" + str(finance['user_rating'].std()))"
   ]
  },
  {
   "cell_type": "code",
   "execution_count": 25,
   "metadata": {},
   "outputs": [
    {
     "data": {
      "text/plain": [
       "<matplotlib.axes._subplots.AxesSubplot at 0x29564dd9d30>"
      ]
     },
     "execution_count": 25,
     "metadata": {},
     "output_type": "execute_result"
    },
    {
     "data": {
      "image/png": "[encoded data removed]",
      "text/plain": [
       "<Figure size 432x288 with 1 Axes>"
      ]
     },
     "metadata": {
      "needs_background": "light"
     },
     "output_type": "display_data"
    }
   ],
   "source": [
    "finance['user_rating'].plot.hist(title='Finance')"
   ]
  },
  {
   "cell_type": "markdown",
   "metadata": {},
   "source": [
    "With Games there is a very different distribution. The mean is considerably higher and there are comparatively fewer low-rated apps. This is sort of what the t-test measures under the hood."
   ]
  },
  {
   "cell_type": "code",
   "execution_count": 26,
   "metadata": {},
   "outputs": [
    {
     "name": "stdout",
     "output_type": "stream",
     "text": [
      "Games mean: 3.6850077679958573 | Games stv:1.4681776801652309\n"
     ]
    }
   ],
   "source": [
    "print(\"Games mean: \" + str(games['user_rating'].mean()) + \" | Games stv:\" + str(games['user_rating'].std()))"
   ]
  },
  {
   "cell_type": "code",
   "execution_count": 27,
   "metadata": {},
   "outputs": [
    {
     "data": {
      "text/plain": [
       "<matplotlib.axes._subplots.AxesSubplot at 0x29564e736a0>"
      ]
     },
     "execution_count": 27,
     "metadata": {},
     "output_type": "execute_result"
    },
    {
     "data": {
      "image/png": "[encoded data removed]",
      "text/plain": [
       "<Figure size 432x288 with 1 Axes>"
      ]
     },
     "metadata": {
      "needs_background": "light"
     },
     "output_type": "display_data"
    }
   ],
   "source": [
    "games['user_rating'].plot.hist(title='Games')"
   ]
  },
  {
   "cell_type": "markdown",
   "metadata": {},
   "source": [
    "### When t-tests fail\n",
    "Alternatively, when you run a t-test you may find that you cannot tell whether two phenomena are different from data alone. For example, while Finance may be significantly different from Games, Weather is not. When we run the t-test, we observe a p-value of 61%, which means that there is a 61% chance that the data comes from the same source. As such, we say that **the ratings of weather and games are not significantly different**. You can also see this in the histogram-- though there are some differences, it is very similar to the one generated from games."
   ]
  },
  {
   "cell_type": "code",
   "execution_count": 28,
   "metadata": {},
   "outputs": [
    {
     "data": {
      "text/plain": [
       "Ttest_indResult(statistic=-0.5038565059315654, pvalue=0.6143904446295312)"
      ]
     },
     "execution_count": 28,
     "metadata": {},
     "output_type": "execute_result"
    }
   ],
   "source": [
    "weather = apps[apps['prime_genre'] == 'Weather']\n",
    "\n",
    "ttest_ind(weather['user_rating'], games['user_rating'])"
   ]
  },
  {
   "cell_type": "code",
   "execution_count": 29,
   "metadata": {},
   "outputs": [
    {
     "name": "stdout",
     "output_type": "stream",
     "text": [
      "Weather mean: 3.5972222222222223 | Weather stv:1.2661322074819679\n"
     ]
    }
   ],
   "source": [
    "print(\"Weather mean: \" + str(weather['user_rating'].mean()) + \" | Weather stv:\" + str(weather['user_rating'].std()))"
   ]
  },
  {
   "cell_type": "code",
   "execution_count": 30,
   "metadata": {},
   "outputs": [
    {
     "data": {
      "text/plain": [
       "<matplotlib.axes._subplots.AxesSubplot at 0x29564e50860>"
      ]
     },
     "execution_count": 30,
     "metadata": {},
     "output_type": "execute_result"
    },
    {
     "data": {
      "image/png": "[encoded data removed]",
      "text/plain": [
       "<Figure size 432x288 with 1 Axes>"
      ]
     },
     "metadata": {
      "needs_background": "light"
     },
     "output_type": "display_data"
    }
   ],
   "source": [
    "weather['user_rating'].plot.hist(title='Weather')"
   ]
  },
  {
   "cell_type": "markdown",
   "metadata": {},
   "source": [
    "## Challenge Question 5 (2 points)\n",
    "Write code which generates the t-statistic and p-value of a comparison of `price` from Lifestyle and Finance apps. Are they significantly different?"
   ]
  },
  {
   "cell_type": "code",
   "execution_count": 108,
   "metadata": {},
   "outputs": [
    {
     "data": {
      "text/plain": [
       "Ttest_indResult(statistic=2.699961786572746, pvalue=0.007416088855177811)"
      ]
     },
     "execution_count": 108,
     "metadata": {},
     "output_type": "execute_result"
    }
   ],
   "source": [
    "lifestyle = apps[apps['prime_genre'] == 'Lifestyle']\n",
    "finance   = apps[apps['prime_genre'] == 'Finance']\n",
    "ttest_ind(lifestyle['price'], finance['price'])"
   ]
  },
  {
   "cell_type": "markdown",
   "metadata": {},
   "source": [
    "Since pvalue is less than 0.05 they are different"
   ]
  },
  {
   "cell_type": "markdown",
   "metadata": {},
   "source": [
    "## References\n",
    "\n",
    "Li, Q., Guan, X., Wu, P., Wang, X., Zhou, L., Tong, Y., ... & Xing, X. (2020). Early transmission dynamics in Wuhan, China, of novel coronavirus–infected pneumonia. New England Journal of Medicine.\n",
    "\n",
    "The Pandas Development Team (2020). Visualization. Retrieved from: https://pandas.pydata.org/pandas-docs/stable/user_guide/visualization.html"
   ]
  }
 ],
 "metadata": {
  "kernelspec": {
   "display_name": "Python 3",
   "language": "python",
   "name": "python3"
  },
  "language_info": {
   "codemirror_mode": {
    "name": "ipython",
    "version": 3
   },
   "file_extension": ".py",
   "mimetype": "text/x-python",
   "name": "python",
   "nbconvert_exporter": "python",
   "pygments_lexer": "ipython3",
   "version": "3.7.3"
  }
 },
 "nbformat": 4,
 "nbformat_minor": 2
}
